{
  "nbformat": 4,
  "nbformat_minor": 0,
  "metadata": {
    "colab": {
      "name": "EmotionsRecognition.ipynb",
      "version": "0.3.2",
      "provenance": [],
      "collapsed_sections": []
    },
    "kernelspec": {
      "name": "python3",
      "display_name": "Python 3"
    }
  },
  "cells": [
    {
      "metadata": {
        "id": "CjWvnaQUrZmD",
        "colab_type": "text"
      },
      "cell_type": "markdown",
      "source": [
        "# Emotion classification using the RAVDESS dataset"
      ]
    },
    {
      "metadata": {
        "id": "ldtHMhuLrewK",
        "colab_type": "text"
      },
      "cell_type": "markdown",
      "source": [
        "The Ryerson Audio-Visual Database of Emotional Speech and Song (RAVDESS) is licensed under CC BY-NA-SC 4.0. and can be downloaded free of charge at https://zenodo.org/record/1188976.\n",
        "\n",
        "***Construction and Validation***\n",
        "\n",
        "Construction and validation of the RAVDESS is described in our paper: Livingstone SR, Russo FA (2018) The Ryerson Audio-Visual Database of Emotional Speech and Song (RAVDESS): A dynamic, multimodal set of facial and vocal expressions in North American English. PLoS ONE 13(5): e0196391. https://doi.org/10.1371/journal.pone.0196391.\n",
        "\n",
        "The RAVDESS contains 7356 files. Each file was rated 10 times on emotional validity, intensity, and genuineness. Ratings were provided by 247 individuals who were characteristic of untrained adult research participants from North America. A further set of 72 participants provided test-retest data. High levels of emotional validity, interrater reliability, and test-retest intrarater reliability were reported. Validation data is open-access, and can be downloaded along with our paper from PLOS ONE.\n",
        "\n",
        "***Description***\n",
        "\n",
        "The dataset contains the complete set of 7356 RAVDESS files (total size: 24.8 GB). Each of the 24 actors consists of three modality formats: Audio-only (16bit, 48kHz .wav), Audio-Video (720p H.264, AAC 48kHz, .mp4), and Video-only (no sound).  Note, there are no song files for Actor_18.\n",
        "\n",
        "***Data***\n",
        "\n",
        "For this notebook, Audio-Only files have been used (1440 files: 60 trials per actor x 24 actors = 1440.\n",
        "\n",
        "***License information***\n",
        "\n",
        "The RAVDESS is released under a Creative Commons Attribution-NonCommercial-ShareAlike 4.0 International License, CC BY-NA-SC 4.0\n",
        "\n",
        "***File naming convention***\n",
        "\n",
        "Each of the 7356 RAVDESS files has a unique filename. The filename consists of a 7-part numerical identifier (e.g., 02-01-06-01-02-01-12.mp4). These identifiers define the stimulus characteristics:\n",
        "\n",
        "***Filename identifiers***\n",
        "\n",
        "- Modality (01 = full-AV, 02 = video-only, 03 = audio-only).\n",
        "- Vocal channel (01 = speech, 02 = song).\n",
        "- Emotion (01 = neutral, 02 = calm, 03 = happy, 04 = sad, 05 = angry, 06 = fearful, 07 = disgust, 08 = surprised).\n",
        "- Emotional intensity (01 = normal, 02 = strong). NOTE: There is no strong intensity for the ‘neutral’ emotion.\n",
        "- Statement (01 = “Kids are talking by the door”, 02 = “Dogs are sitting by the door”).\n",
        "- Repetition (01 = 1st repetition, 02 = 2nd repetition).\n",
        "- Actor (01 to 24. Odd numbered actors are male, even numbered actors are female).\n",
        "\n",
        "Filename example: 02-01-06-01-02-01-12.mp4 \n",
        "\n",
        "- Video-only (02)\n",
        "- Speech (01)\n",
        "- Fearful (06)\n",
        "- Normal intensity (01)\n",
        "- Statement “dogs” (02)\n",
        "- 1st Repetition (01)\n",
        "- 12th Actor (12)\n",
        "- Female, as the actor ID number is even."
      ]
    },
    {
      "metadata": {
        "id": "JDNbxj45rkvB",
        "colab_type": "text"
      },
      "cell_type": "markdown",
      "source": [
        "# Analysis\n",
        "\n",
        "We are using Colab, a Google Cloud environment for jupyter, so we need to import our files from Google Drive and then install LibROSA, a python package for music and audio analysis.\n",
        "\n",
        "After the import, we will plot the signal of the first file."
      ]
    },
    {
      "metadata": {
        "id": "N-o2JI49WBAe",
        "colab_type": "code",
        "outputId": "b4f657af-7cf1-40ae-f98b-1b519a44749d",
        "colab": {
          "base_uri": "https://localhost:8080/",
          "height": 34
        }
      },
      "cell_type": "code",
      "source": [
        "from google.colab import drive\n",
        "drive.mount('/content/drive/')"
      ],
      "execution_count": 0,
      "outputs": [
        {
          "output_type": "stream",
          "text": [
            "Drive already mounted at /content/drive/; to attempt to forcibly remount, call drive.mount(\"/content/drive/\", force_remount=True).\n"
          ],
          "name": "stdout"
        }
      ]
    },
    {
      "metadata": {
        "id": "EgFwaDhMbJVm",
        "colab_type": "code",
        "outputId": "619eff3f-e6a6-4513-d652-c788ccb9d89e",
        "colab": {
          "base_uri": "https://localhost:8080/",
          "height": 204
        }
      },
      "cell_type": "code",
      "source": [
        "!pip install librosa"
      ],
      "execution_count": 0,
      "outputs": [
        {
          "output_type": "stream",
          "text": [
            "Requirement already satisfied: librosa in /usr/local/lib/python3.6/dist-packages (0.6.2)\n",
            "Requirement already satisfied: scipy>=0.14.0 in /usr/local/lib/python3.6/dist-packages (from librosa) (1.1.0)\n",
            "Requirement already satisfied: audioread>=2.0.0 in /usr/local/lib/python3.6/dist-packages (from librosa) (2.1.6)\n",
            "Requirement already satisfied: numpy>=1.8.0 in /usr/local/lib/python3.6/dist-packages (from librosa) (1.14.6)\n",
            "Requirement already satisfied: resampy>=0.2.0 in /usr/local/lib/python3.6/dist-packages (from librosa) (0.2.1)\n",
            "Requirement already satisfied: joblib>=0.12 in /usr/local/lib/python3.6/dist-packages (from librosa) (0.13.0)\n",
            "Requirement already satisfied: six>=1.3 in /usr/local/lib/python3.6/dist-packages (from librosa) (1.11.0)\n",
            "Requirement already satisfied: decorator>=3.0.0 in /usr/local/lib/python3.6/dist-packages (from librosa) (4.3.0)\n",
            "Requirement already satisfied: numba>=0.38.0 in /usr/local/lib/python3.6/dist-packages (from librosa) (0.41.0)\n",
            "Requirement already satisfied: scikit-learn!=0.19.0,>=0.14.0 in /usr/local/lib/python3.6/dist-packages (from librosa) (0.19.2)\n",
            "Requirement already satisfied: llvmlite>=0.26.0dev0 in /usr/local/lib/python3.6/dist-packages (from numba>=0.38.0->librosa) (0.26.0)\n"
          ],
          "name": "stdout"
        }
      ]
    },
    {
      "metadata": {
        "id": "rxI4xzngdS-e",
        "colab_type": "code",
        "colab": {}
      },
      "cell_type": "code",
      "source": [
        "import librosa\n",
        "from librosa import display\n",
        "\n",
        "data, sampling_rate = librosa.load('/content/drive/My Drive/Ravdess/03-01-01-01-01-01-01.wav')"
      ],
      "execution_count": 0,
      "outputs": []
    },
    {
      "metadata": {
        "id": "WgaSHtCIdtX2",
        "colab_type": "code",
        "outputId": "64fffd10-cc40-4d95-dab1-98987fdc19ed",
        "colab": {
          "base_uri": "https://localhost:8080/",
          "height": 364
        }
      },
      "cell_type": "code",
      "source": [
        "% pylab inline\n",
        "import os\n",
        "import pandas as pd\n",
        "import glob \n",
        "\n",
        "plt.figure(figsize=(12, 4))\n",
        "librosa.display.waveplot(data, sr=sampling_rate)"
      ],
      "execution_count": 0,
      "outputs": [
        {
          "output_type": "stream",
          "text": [
            "Populating the interactive namespace from numpy and matplotlib\n"
          ],
          "name": "stdout"
        },
        {
          "output_type": "stream",
          "text": [
            "/usr/local/lib/python3.6/dist-packages/IPython/core/magics/pylab.py:161: UserWarning: pylab import has clobbered these variables: ['display']\n",
            "`%matplotlib` prevents importing * from pylab and numpy\n",
            "  \"\\n`%matplotlib` prevents importing * from pylab and numpy\"\n"
          ],
          "name": "stderr"
        },
        {
          "output_type": "execute_result",
          "data": {
            "text/plain": [
              "<matplotlib.collections.PolyCollection at 0x7f6054f60390>"
            ]
          },
          "metadata": {
            "tags": []
          },
          "execution_count": 9
        },
        {
          "output_type": "display_data",
          "data": {
            "image/png": "[encoded data removed]",
            "text/plain": [
              "<matplotlib.figure.Figure at 0x7f6057d242e8>"
            ]
          },
          "metadata": {
            "tags": []
          }
        }
      ]
    },
    {
      "metadata": {
        "id": "vCtNuVWlr5jL",
        "colab_type": "text"
      },
      "cell_type": "markdown",
      "source": [
        "# Load all files\n",
        "\n",
        "We will create our numpy array extracting Mel-frequency cepstral coefficients (MFCCs), while the classes to predict will be extracted from the name of the file (see the introductory section of this notebook to see the naming convention of the files of this dataset)."
      ]
    },
    {
      "metadata": {
        "id": "AKvuF--gd6F-",
        "colab_type": "code",
        "colab": {}
      },
      "cell_type": "code",
      "source": [
        "path = '/content/drive/My Drive/Ravdess'\n",
        "lst = []\n",
        "\n",
        "for subdir, dirs, files in os.walk(path):\n",
        "  for file in files:\n",
        "      try:\n",
        "        #Load librosa array, obtain mfcss, store the file and the mcss information in a new array\n",
        "        X, sample_rate = librosa.load(os.path.join(subdir,file), res_type='kaiser_fast')\n",
        "        mfccs = np.mean(librosa.feature.mfcc(y=X, sr=sample_rate, n_mfcc=40).T,axis=0) \n",
        "        file = file[6:8]\n",
        "        arr = mfccs, file\n",
        "        lst.append(arr)\n",
        "      # If the file is not valid, skip it\n",
        "      except ValueError:\n",
        "        continue       "
      ],
      "execution_count": 0,
      "outputs": []
    },
    {
      "metadata": {
        "id": "kLSggnF7kKY1",
        "colab_type": "code",
        "colab": {}
      },
      "cell_type": "code",
      "source": [
        "# Creating X and y: zip makes a list of all the first elements, and a list of all the second elements.\n",
        "X, y = zip(*lst)"
      ],
      "execution_count": 0,
      "outputs": []
    },
    {
      "metadata": {
        "id": "VzvBRTJIlIE9",
        "colab_type": "code",
        "outputId": "190ecff8-6dfb-4258-e512-77dc75b1d0e0",
        "colab": {
          "base_uri": "https://localhost:8080/",
          "height": 34
        }
      },
      "cell_type": "code",
      "source": [
        "import numpy as np\n",
        "X = np.asarray(X)\n",
        "y = np.asarray(y)\n",
        "\n",
        "\n",
        "X.shape, y.shape"
      ],
      "execution_count": 0,
      "outputs": [
        {
          "output_type": "execute_result",
          "data": {
            "text/plain": [
              "((1440, 40), (1440,))"
            ]
          },
          "metadata": {
            "tags": []
          },
          "execution_count": 98
        }
      ]
    },
    {
      "metadata": {
        "id": "Agw-3KN1sDhh",
        "colab_type": "text"
      },
      "cell_type": "markdown",
      "source": [
        "# Decision Tree Classifier\n",
        "\n",
        "To make a first attempt in accomplishing this classification task I chose a decision tree:"
      ]
    },
    {
      "metadata": {
        "id": "Q-Xgb5NslTBO",
        "colab_type": "code",
        "colab": {}
      },
      "cell_type": "code",
      "source": [
        "from sklearn.model_selection import train_test_split\n",
        "\n",
        "X_train, X_test, y_train, y_test = train_test_split(X, y, test_size=0.33, random_state=42)"
      ],
      "execution_count": 0,
      "outputs": []
    },
    {
      "metadata": {
        "id": "UshLOC1ClWL3",
        "colab_type": "code",
        "colab": {}
      },
      "cell_type": "code",
      "source": [
        "from sklearn.tree import DecisionTreeClassifier"
      ],
      "execution_count": 0,
      "outputs": []
    },
    {
      "metadata": {
        "id": "_BnCR52nlXw0",
        "colab_type": "code",
        "colab": {}
      },
      "cell_type": "code",
      "source": [
        "dtree = DecisionTreeClassifier()"
      ],
      "execution_count": 0,
      "outputs": []
    },
    {
      "metadata": {
        "id": "qWyTownblZM0",
        "colab_type": "code",
        "outputId": "46241d34-f53c-422d-ff28-72def9b7a6b4",
        "colab": {
          "base_uri": "https://localhost:8080/",
          "height": 119
        }
      },
      "cell_type": "code",
      "source": [
        "dtree.fit(X_train, y_train)"
      ],
      "execution_count": 0,
      "outputs": [
        {
          "output_type": "execute_result",
          "data": {
            "text/plain": [
              "DecisionTreeClassifier(class_weight=None, criterion='gini', max_depth=None,\n",
              "            max_features=None, max_leaf_nodes=None,\n",
              "            min_impurity_decrease=0.0, min_impurity_split=None,\n",
              "            min_samples_leaf=1, min_samples_split=2,\n",
              "            min_weight_fraction_leaf=0.0, presort=False, random_state=None,\n",
              "            splitter='best')"
            ]
          },
          "metadata": {
            "tags": []
          },
          "execution_count": 16
        }
      ]
    },
    {
      "metadata": {
        "id": "HEuw6TUQlr7C",
        "colab_type": "code",
        "colab": {}
      },
      "cell_type": "code",
      "source": [
        "predictions = dtree.predict(X_test)"
      ],
      "execution_count": 0,
      "outputs": []
    },
    {
      "metadata": {
        "id": "_1v0i0V7sMw7",
        "colab_type": "text"
      },
      "cell_type": "markdown",
      "source": [
        "Let's go with our classification report.\n",
        "\n",
        "Before we start, a quick reminder of the classes we are trying to predict:\n",
        "\n",
        "emotions = {\n",
        "    \"neutral\": \"01\",\n",
        "    \"calm\": \"02\",\n",
        "    \"happy\": \"03\",\n",
        "    \"sad\": \"04\",\n",
        "    \"angry\": \"05\", \n",
        "    \"fearful\": \"06\", \n",
        "    \"disgust\": \"07\", \n",
        "    \"surprised\": \"08\"\n",
        "}"
      ]
    },
    {
      "metadata": {
        "id": "c4kNSYkAleIv",
        "colab_type": "code",
        "outputId": "4fe44d44-2fe0-49e5-f5c2-acd1760cdf4f",
        "colab": {
          "base_uri": "https://localhost:8080/",
          "height": 238
        }
      },
      "cell_type": "code",
      "source": [
        "from sklearn.metrics import classification_report,confusion_matrix\n",
        "print(classification_report(y_test,predictions))"
      ],
      "execution_count": 0,
      "outputs": [
        {
          "output_type": "stream",
          "text": [
            "             precision    recall  f1-score   support\n",
            "\n",
            "         01       0.29      0.41      0.34        29\n",
            "         02       0.57      0.60      0.58        70\n",
            "         03       0.34      0.35      0.35        57\n",
            "         04       0.33      0.21      0.26        71\n",
            "         05       0.43      0.44      0.44        59\n",
            "         06       0.37      0.36      0.37        66\n",
            "         07       0.39      0.34      0.36        64\n",
            "         08       0.28      0.35      0.31        60\n",
            "\n",
            "avg / total       0.38      0.38      0.38       476\n",
            "\n"
          ],
          "name": "stdout"
        }
      ]
    },
    {
      "metadata": {
        "id": "x2YH_Ttaw2Am",
        "colab_type": "text"
      },
      "cell_type": "markdown",
      "source": [
        "Being a multiclass problem (8 classes to predict) and with a little dataset, the result is not that bad.\n",
        "\n",
        "In particular, we have a starting point for precision/recall tradeoff for the classes Angry, Disgust and Surprised."
      ]
    },
    {
      "metadata": {
        "id": "lCVgjLj-gwE2",
        "colab_type": "text"
      },
      "cell_type": "markdown",
      "source": [
        "# Random Forest"
      ]
    },
    {
      "metadata": {
        "id": "jfaTxzZ1w__y",
        "colab_type": "text"
      },
      "cell_type": "markdown",
      "source": [
        "In this second approach, I switched to a random forest classifier and I made a gridsearch to make some hyperparameters tuning.\n",
        "\n",
        "The gridsearch is not shown in the code below otherwise the notebook will require too much time to run."
      ]
    },
    {
      "metadata": {
        "id": "wcov_DCXgs7v",
        "colab_type": "code",
        "colab": {}
      },
      "cell_type": "code",
      "source": [
        "from sklearn.ensemble import RandomForestClassifier"
      ],
      "execution_count": 0,
      "outputs": []
    },
    {
      "metadata": {
        "id": "3eo0ljqzg-KM",
        "colab_type": "code",
        "colab": {}
      },
      "cell_type": "code",
      "source": [
        "rforest = RandomForestClassifier(criterion=\"gini\", max_depth=10, max_features=\"log2\", \n",
        "                                 max_leaf_nodes = 100, min_samples_leaf = 3, min_samples_split = 20, \n",
        "                                 n_estimators= 22000, random_state= 5)"
      ],
      "execution_count": 0,
      "outputs": []
    },
    {
      "metadata": {
        "id": "Tg45qSOfg-26",
        "colab_type": "code",
        "outputId": "389b1fca-b8c7-4486-b4e9-60cb1bb145b3",
        "colab": {
          "base_uri": "https://localhost:8080/",
          "height": 119
        }
      },
      "cell_type": "code",
      "source": [
        "rforest.fit(X_train, y_train)"
      ],
      "execution_count": 0,
      "outputs": [
        {
          "output_type": "execute_result",
          "data": {
            "text/plain": [
              "RandomForestClassifier(bootstrap=True, class_weight=None, criterion='gini',\n",
              "            max_depth=10, max_features='log2', max_leaf_nodes=100,\n",
              "            min_impurity_decrease=0.0, min_impurity_split=None,\n",
              "            min_samples_leaf=3, min_samples_split=20,\n",
              "            min_weight_fraction_leaf=0.0, n_estimators=22000, n_jobs=1,\n",
              "            oob_score=False, random_state=5, verbose=0, warm_start=False)"
            ]
          },
          "metadata": {
            "tags": []
          },
          "execution_count": 22
        }
      ]
    },
    {
      "metadata": {
        "id": "aM8KU3qxhGBM",
        "colab_type": "code",
        "colab": {}
      },
      "cell_type": "code",
      "source": [
        "predictions = rforest.predict(X_test)"
      ],
      "execution_count": 0,
      "outputs": []
    },
    {
      "metadata": {
        "id": "296FW5sBdanI",
        "colab_type": "code",
        "outputId": "888358df-3aa1-4cd8-97a7-448fb469ef30",
        "colab": {
          "base_uri": "https://localhost:8080/",
          "height": 238
        }
      },
      "cell_type": "code",
      "source": [
        "print(classification_report(y_test,predictions))"
      ],
      "execution_count": 0,
      "outputs": [
        {
          "output_type": "stream",
          "text": [
            "             precision    recall  f1-score   support\n",
            "\n",
            "         01       0.00      0.00      0.00        29\n",
            "         02       0.52      0.91      0.66        70\n",
            "         03       0.34      0.39      0.36        57\n",
            "         04       0.45      0.24      0.31        71\n",
            "         05       0.59      0.61      0.60        59\n",
            "         06       0.53      0.47      0.50        66\n",
            "         07       0.44      0.42      0.43        64\n",
            "         08       0.48      0.55      0.51        60\n",
            "\n",
            "avg / total       0.45      0.48      0.45       476\n",
            "\n"
          ],
          "name": "stdout"
        }
      ]
    },
    {
      "metadata": {
        "id": "ksfovJ2RxLTS",
        "colab_type": "text"
      },
      "cell_type": "markdown",
      "source": [
        "We have an improvement: what we see is that the class \"Angry\" is the easiest to predict at the moment."
      ]
    },
    {
      "metadata": {
        "id": "t9eqMHV3S8i6",
        "colab_type": "text"
      },
      "cell_type": "markdown",
      "source": [
        "# Neural network"
      ]
    },
    {
      "metadata": {
        "id": "G-QscoyMxQtn",
        "colab_type": "text"
      },
      "cell_type": "markdown",
      "source": [
        "We are going to do 2 actions: \n",
        "\n",
        "1) Expand the dimensions of our array, adding a third one (this is necessary for the Neural Network);\n",
        "\n",
        "2) Build our network."
      ]
    },
    {
      "metadata": {
        "id": "W4i187-Pe-w5",
        "colab_type": "code",
        "colab": {}
      },
      "cell_type": "code",
      "source": [
        "x_traincnn = np.expand_dims(X_train, axis=2)\n",
        "x_testcnn = np.expand_dims(X_test, axis=2)"
      ],
      "execution_count": 0,
      "outputs": []
    },
    {
      "metadata": {
        "id": "vnvoCRX1gQCh",
        "colab_type": "code",
        "outputId": "afd9ba22-b046-42e6-d1d0-e01301dabe80",
        "colab": {
          "base_uri": "https://localhost:8080/",
          "height": 34
        }
      },
      "cell_type": "code",
      "source": [
        "x_traincnn.shape, x_testcnn.shape"
      ],
      "execution_count": 0,
      "outputs": [
        {
          "output_type": "execute_result",
          "data": {
            "text/plain": [
              "((964, 40, 1), (476, 40, 1))"
            ]
          },
          "metadata": {
            "tags": []
          },
          "execution_count": 118
        }
      ]
    },
    {
      "metadata": {
        "id": "HZOGIpuefCd3",
        "colab_type": "code",
        "colab": {}
      },
      "cell_type": "code",
      "source": [
        "import numpy as np\n",
        "import matplotlib.pyplot as plt\n",
        "import tensorflow as tf\n",
        "from matplotlib.pyplot import specgram\n",
        "import keras\n",
        "from keras.preprocessing import sequence\n",
        "from keras.models import Sequential\n",
        "from keras.layers import Dense, Embedding\n",
        "from keras.layers import LSTM\n",
        "from keras.preprocessing.text import Tokenizer\n",
        "from keras.preprocessing.sequence import pad_sequences\n",
        "from keras.utils import to_categorical\n",
        "from keras.layers import Input, Flatten, Dropout, Activation\n",
        "from keras.layers import Conv1D, MaxPooling1D, AveragePooling1D\n",
        "from keras.models import Model\n",
        "from keras.callbacks import ModelCheckpoint\n",
        "from sklearn.metrics import confusion_matrix\n",
        "\n",
        "\n",
        "model = Sequential()\n",
        "\n",
        "model.add(Conv1D(256, 5,padding='same',\n",
        "                 input_shape=(40,1)))\n",
        "model.add(Activation('relu'))\n",
        "model.add(Conv1D(128, 5,padding='same'))\n",
        "model.add(Activation('relu'))\n",
        "model.add(Dropout(0.1))\n",
        "model.add(MaxPooling1D(pool_size=(8)))\n",
        "model.add(Conv1D(128, 5,padding='same',))\n",
        "model.add(Activation('relu'))\n",
        "model.add(Conv1D(128, 5,padding='same',))\n",
        "model.add(Activation('relu'))\n",
        "model.add(Flatten())\n",
        "model.add(Dense(10))\n",
        "model.add(Activation('softmax'))\n",
        "opt = keras.optimizers.rmsprop(lr=0.00001, decay=1e-6)"
      ],
      "execution_count": 0,
      "outputs": []
    },
    {
      "metadata": {
        "id": "LphftMIZzUvz",
        "colab_type": "text"
      },
      "cell_type": "markdown",
      "source": [
        "With *model.summary* we can see a recap of what we have build:"
      ]
    },
    {
      "metadata": {
        "id": "pIWPB4Zgfic7",
        "colab_type": "code",
        "outputId": "caea728e-bd7c-4cc3-da8f-717c3e4c988b",
        "colab": {
          "base_uri": "https://localhost:8080/",
          "height": 578
        }
      },
      "cell_type": "code",
      "source": [
        "model.summary()"
      ],
      "execution_count": 0,
      "outputs": [
        {
          "output_type": "stream",
          "text": [
            "_________________________________________________________________\n",
            "Layer (type)                 Output Shape              Param #   \n",
            "=================================================================\n",
            "conv1d_81 (Conv1D)           (None, 40, 256)           1536      \n",
            "_________________________________________________________________\n",
            "activation_98 (Activation)   (None, 40, 256)           0         \n",
            "_________________________________________________________________\n",
            "conv1d_82 (Conv1D)           (None, 40, 128)           163968    \n",
            "_________________________________________________________________\n",
            "activation_99 (Activation)   (None, 40, 128)           0         \n",
            "_________________________________________________________________\n",
            "dropout_27 (Dropout)         (None, 40, 128)           0         \n",
            "_________________________________________________________________\n",
            "max_pooling1d_18 (MaxPooling (None, 5, 128)            0         \n",
            "_________________________________________________________________\n",
            "conv1d_83 (Conv1D)           (None, 5, 128)            82048     \n",
            "_________________________________________________________________\n",
            "activation_100 (Activation)  (None, 5, 128)            0         \n",
            "_________________________________________________________________\n",
            "conv1d_84 (Conv1D)           (None, 5, 128)            82048     \n",
            "_________________________________________________________________\n",
            "activation_101 (Activation)  (None, 5, 128)            0         \n",
            "_________________________________________________________________\n",
            "flatten_18 (Flatten)         (None, 640)               0         \n",
            "_________________________________________________________________\n",
            "dense_18 (Dense)             (None, 10)                6410      \n",
            "_________________________________________________________________\n",
            "activation_102 (Activation)  (None, 10)                0         \n",
            "=================================================================\n",
            "Total params: 336,010\n",
            "Trainable params: 336,010\n",
            "Non-trainable params: 0\n",
            "_________________________________________________________________\n"
          ],
          "name": "stdout"
        }
      ]
    },
    {
      "metadata": {
        "id": "5qQSBeBhzcLu",
        "colab_type": "text"
      },
      "cell_type": "markdown",
      "source": [
        "Now we can compile and fit our model:"
      ]
    },
    {
      "metadata": {
        "id": "iNI1znbsfpTx",
        "colab_type": "code",
        "colab": {}
      },
      "cell_type": "code",
      "source": [
        "model.compile(loss='sparse_categorical_crossentropy', optimizer=opt,metrics=['accuracy'])"
      ],
      "execution_count": 0,
      "outputs": []
    },
    {
      "metadata": {
        "id": "ktdF-nJKfq6F",
        "colab_type": "code",
        "outputId": "f711641d-761d-4017-90fc-5d3d804ce3cf",
        "colab": {
          "base_uri": "https://localhost:8080/",
          "height": 8534
        }
      },
      "cell_type": "code",
      "source": [
        "cnnhistory=model.fit(x_traincnn, y_train, batch_size=16, epochs=250, validation_data=(x_testcnn, y_test))"
      ],
      "execution_count": 0,
      "outputs": [
        {
          "output_type": "stream",
          "text": [
            "Train on 964 samples, validate on 476 samples\n",
            "Epoch 1/250\n",
            "964/964 [==============================] - 4s 4ms/step - loss: 2.4359 - acc: 0.1380 - val_loss: 2.0489 - val_acc: 0.1660\n",
            "Epoch 2/250\n",
            "964/964 [==============================] - 2s 2ms/step - loss: 2.1881 - acc: 0.1473 - val_loss: 2.0632 - val_acc: 0.1492\n",
            "Epoch 3/250\n",
            "964/964 [==============================] - 2s 2ms/step - loss: 2.1089 - acc: 0.1774 - val_loss: 2.0121 - val_acc: 0.1744\n",
            "Epoch 4/250\n",
            "964/964 [==============================] - 2s 2ms/step - loss: 2.0895 - acc: 0.1826 - val_loss: 1.9944 - val_acc: 0.2185\n",
            "Epoch 5/250\n",
            "964/964 [==============================] - 2s 2ms/step - loss: 2.0863 - acc: 0.1732 - val_loss: 2.0030 - val_acc: 0.1513\n",
            "Epoch 6/250\n",
            "964/964 [==============================] - 2s 2ms/step - loss: 2.0510 - acc: 0.2054 - val_loss: 1.9460 - val_acc: 0.2752\n",
            "Epoch 7/250\n",
            "964/964 [==============================] - 2s 2ms/step - loss: 2.0281 - acc: 0.2085 - val_loss: 1.9968 - val_acc: 0.1912\n",
            "Epoch 8/250\n",
            "964/964 [==============================] - 2s 2ms/step - loss: 2.0130 - acc: 0.1909 - val_loss: 1.9320 - val_acc: 0.2311\n",
            "Epoch 9/250\n",
            "964/964 [==============================] - 2s 2ms/step - loss: 1.9779 - acc: 0.2334 - val_loss: 1.9091 - val_acc: 0.2878\n",
            "Epoch 10/250\n",
            "964/964 [==============================] - 2s 2ms/step - loss: 1.9784 - acc: 0.2137 - val_loss: 1.9884 - val_acc: 0.1450\n",
            "Epoch 11/250\n",
            "964/964 [==============================] - 2s 2ms/step - loss: 1.9420 - acc: 0.2541 - val_loss: 1.9370 - val_acc: 0.1933\n",
            "Epoch 12/250\n",
            "964/964 [==============================] - 2s 2ms/step - loss: 1.9443 - acc: 0.2376 - val_loss: 1.8885 - val_acc: 0.2374\n",
            "Epoch 13/250\n",
            "964/964 [==============================] - 2s 2ms/step - loss: 1.9236 - acc: 0.2438 - val_loss: 1.9217 - val_acc: 0.2269\n",
            "Epoch 14/250\n",
            "964/964 [==============================] - 2s 2ms/step - loss: 1.9406 - acc: 0.2417 - val_loss: 1.8642 - val_acc: 0.2647\n",
            "Epoch 15/250\n",
            "964/964 [==============================] - 2s 2ms/step - loss: 1.9174 - acc: 0.2521 - val_loss: 1.8840 - val_acc: 0.3025\n",
            "Epoch 16/250\n",
            "964/964 [==============================] - 2s 2ms/step - loss: 1.9155 - acc: 0.2500 - val_loss: 1.8858 - val_acc: 0.2899\n",
            "Epoch 17/250\n",
            "964/964 [==============================] - 2s 2ms/step - loss: 1.8991 - acc: 0.2790 - val_loss: 1.8752 - val_acc: 0.2584\n",
            "Epoch 18/250\n",
            "964/964 [==============================] - 2s 2ms/step - loss: 1.8803 - acc: 0.2604 - val_loss: 1.8469 - val_acc: 0.2878\n",
            "Epoch 19/250\n",
            "964/964 [==============================] - 2s 2ms/step - loss: 1.8766 - acc: 0.2770 - val_loss: 1.8541 - val_acc: 0.2500\n",
            "Epoch 20/250\n",
            "964/964 [==============================] - 2s 2ms/step - loss: 1.8811 - acc: 0.2604 - val_loss: 1.8545 - val_acc: 0.2500\n",
            "Epoch 21/250\n",
            "964/964 [==============================] - 2s 2ms/step - loss: 1.8614 - acc: 0.2770 - val_loss: 1.8695 - val_acc: 0.2773\n",
            "Epoch 22/250\n",
            "964/964 [==============================] - 2s 2ms/step - loss: 1.8560 - acc: 0.2832 - val_loss: 1.8276 - val_acc: 0.3256\n",
            "Epoch 23/250\n",
            "964/964 [==============================] - 2s 2ms/step - loss: 1.8493 - acc: 0.2832 - val_loss: 1.8297 - val_acc: 0.2878\n",
            "Epoch 24/250\n",
            "964/964 [==============================] - 2s 2ms/step - loss: 1.8450 - acc: 0.2832 - val_loss: 1.8424 - val_acc: 0.2983\n",
            "Epoch 25/250\n",
            "964/964 [==============================] - 2s 2ms/step - loss: 1.8238 - acc: 0.2905 - val_loss: 1.8272 - val_acc: 0.3235\n",
            "Epoch 26/250\n",
            "964/964 [==============================] - 2s 2ms/step - loss: 1.8256 - acc: 0.2915 - val_loss: 1.8183 - val_acc: 0.3130\n",
            "Epoch 27/250\n",
            "964/964 [==============================] - 2s 3ms/step - loss: 1.8254 - acc: 0.3164 - val_loss: 1.8344 - val_acc: 0.3004\n",
            "Epoch 28/250\n",
            "964/964 [==============================] - 2s 3ms/step - loss: 1.8200 - acc: 0.3122 - val_loss: 1.8163 - val_acc: 0.3235\n",
            "Epoch 29/250\n",
            "964/964 [==============================] - 2s 3ms/step - loss: 1.8087 - acc: 0.3340 - val_loss: 1.7982 - val_acc: 0.3256\n",
            "Epoch 30/250\n",
            "964/964 [==============================] - 3s 3ms/step - loss: 1.8137 - acc: 0.3112 - val_loss: 1.7993 - val_acc: 0.3088\n",
            "Epoch 31/250\n",
            "964/964 [==============================] - 2s 3ms/step - loss: 1.7985 - acc: 0.3185 - val_loss: 1.8339 - val_acc: 0.3151\n",
            "Epoch 32/250\n",
            "964/964 [==============================] - 2s 2ms/step - loss: 1.8044 - acc: 0.3060 - val_loss: 1.8208 - val_acc: 0.2899\n",
            "Epoch 33/250\n",
            "964/964 [==============================] - 2s 2ms/step - loss: 1.7971 - acc: 0.3340 - val_loss: 1.8050 - val_acc: 0.2752\n",
            "Epoch 34/250\n",
            "964/964 [==============================] - 2s 2ms/step - loss: 1.7809 - acc: 0.3195 - val_loss: 1.7906 - val_acc: 0.3067\n",
            "Epoch 35/250\n",
            "964/964 [==============================] - 2s 2ms/step - loss: 1.7724 - acc: 0.3299 - val_loss: 1.7721 - val_acc: 0.2920\n",
            "Epoch 36/250\n",
            "964/964 [==============================] - 2s 3ms/step - loss: 1.7835 - acc: 0.3309 - val_loss: 1.7691 - val_acc: 0.3172\n",
            "Epoch 37/250\n",
            "964/964 [==============================] - 2s 3ms/step - loss: 1.7742 - acc: 0.3320 - val_loss: 1.7683 - val_acc: 0.3214\n",
            "Epoch 38/250\n",
            "964/964 [==============================] - 2s 3ms/step - loss: 1.7604 - acc: 0.3278 - val_loss: 1.7853 - val_acc: 0.3214\n",
            "Epoch 39/250\n",
            "964/964 [==============================] - 2s 2ms/step - loss: 1.7655 - acc: 0.3330 - val_loss: 1.7385 - val_acc: 0.3361\n",
            "Epoch 40/250\n",
            "964/964 [==============================] - 2s 2ms/step - loss: 1.7550 - acc: 0.3361 - val_loss: 1.7538 - val_acc: 0.2899\n",
            "Epoch 41/250\n",
            "964/964 [==============================] - 2s 2ms/step - loss: 1.7457 - acc: 0.3288 - val_loss: 1.8114 - val_acc: 0.2773\n",
            "Epoch 42/250\n",
            "964/964 [==============================] - 2s 2ms/step - loss: 1.7400 - acc: 0.3496 - val_loss: 1.7604 - val_acc: 0.3256\n",
            "Epoch 43/250\n",
            "964/964 [==============================] - 2s 2ms/step - loss: 1.7391 - acc: 0.3527 - val_loss: 1.7894 - val_acc: 0.3319\n",
            "Epoch 44/250\n",
            "964/964 [==============================] - 2s 2ms/step - loss: 1.7272 - acc: 0.3392 - val_loss: 1.7427 - val_acc: 0.3235\n",
            "Epoch 45/250\n",
            "964/964 [==============================] - 2s 2ms/step - loss: 1.7355 - acc: 0.3423 - val_loss: 1.7526 - val_acc: 0.3256\n",
            "Epoch 46/250\n",
            "964/964 [==============================] - 2s 2ms/step - loss: 1.7343 - acc: 0.3402 - val_loss: 1.7402 - val_acc: 0.3214\n",
            "Epoch 47/250\n",
            "964/964 [==============================] - 2s 2ms/step - loss: 1.7329 - acc: 0.3454 - val_loss: 1.7376 - val_acc: 0.3193\n",
            "Epoch 48/250\n",
            "964/964 [==============================] - 2s 2ms/step - loss: 1.7159 - acc: 0.3537 - val_loss: 1.7093 - val_acc: 0.3550\n",
            "Epoch 49/250\n",
            "964/964 [==============================] - 2s 2ms/step - loss: 1.7238 - acc: 0.3485 - val_loss: 1.7294 - val_acc: 0.3151\n",
            "Epoch 50/250\n",
            "964/964 [==============================] - 2s 2ms/step - loss: 1.7070 - acc: 0.3568 - val_loss: 1.7354 - val_acc: 0.3046\n",
            "Epoch 51/250\n",
            "964/964 [==============================] - 2s 2ms/step - loss: 1.6933 - acc: 0.3402 - val_loss: 1.6990 - val_acc: 0.3718\n",
            "Epoch 52/250\n",
            "964/964 [==============================] - 2s 2ms/step - loss: 1.6980 - acc: 0.3517 - val_loss: 1.7056 - val_acc: 0.3445\n",
            "Epoch 53/250\n",
            "964/964 [==============================] - 2s 2ms/step - loss: 1.6824 - acc: 0.3786 - val_loss: 1.7178 - val_acc: 0.3361\n",
            "Epoch 54/250\n",
            "964/964 [==============================] - 2s 2ms/step - loss: 1.6864 - acc: 0.3683 - val_loss: 1.7284 - val_acc: 0.3256\n",
            "Epoch 55/250\n",
            "964/964 [==============================] - 2s 2ms/step - loss: 1.6918 - acc: 0.3651 - val_loss: 1.7138 - val_acc: 0.3676\n",
            "Epoch 56/250\n",
            "964/964 [==============================] - 2s 2ms/step - loss: 1.6781 - acc: 0.3683 - val_loss: 1.7146 - val_acc: 0.3319\n",
            "Epoch 57/250\n",
            "964/964 [==============================] - 2s 2ms/step - loss: 1.6748 - acc: 0.3724 - val_loss: 1.6908 - val_acc: 0.3676\n",
            "Epoch 58/250\n",
            "964/964 [==============================] - 2s 2ms/step - loss: 1.6701 - acc: 0.3724 - val_loss: 1.6895 - val_acc: 0.3550\n",
            "Epoch 59/250\n",
            "964/964 [==============================] - 2s 2ms/step - loss: 1.6757 - acc: 0.3672 - val_loss: 1.7215 - val_acc: 0.2878\n",
            "Epoch 60/250\n",
            "964/964 [==============================] - 2s 2ms/step - loss: 1.6691 - acc: 0.3776 - val_loss: 1.7011 - val_acc: 0.3361\n",
            "Epoch 61/250\n",
            "964/964 [==============================] - 2s 2ms/step - loss: 1.6694 - acc: 0.3600 - val_loss: 1.7060 - val_acc: 0.3824\n",
            "Epoch 62/250\n",
            "964/964 [==============================] - 2s 2ms/step - loss: 1.6539 - acc: 0.3911 - val_loss: 1.7289 - val_acc: 0.3424\n",
            "Epoch 63/250\n",
            "964/964 [==============================] - 2s 2ms/step - loss: 1.6536 - acc: 0.3776 - val_loss: 1.6844 - val_acc: 0.3214\n",
            "Epoch 64/250\n",
            "964/964 [==============================] - 2s 2ms/step - loss: 1.6511 - acc: 0.3942 - val_loss: 1.6906 - val_acc: 0.3782\n",
            "Epoch 65/250\n",
            "964/964 [==============================] - 2s 2ms/step - loss: 1.6522 - acc: 0.3911 - val_loss: 1.6892 - val_acc: 0.3655\n",
            "Epoch 66/250\n",
            "964/964 [==============================] - 2s 2ms/step - loss: 1.6352 - acc: 0.4066 - val_loss: 1.6924 - val_acc: 0.3214\n",
            "Epoch 67/250\n",
            "964/964 [==============================] - 2s 2ms/step - loss: 1.6348 - acc: 0.3828 - val_loss: 1.6792 - val_acc: 0.3529\n",
            "Epoch 68/250\n",
            "964/964 [==============================] - 2s 2ms/step - loss: 1.6417 - acc: 0.3983 - val_loss: 1.6641 - val_acc: 0.3676\n",
            "Epoch 69/250\n",
            "964/964 [==============================] - 2s 2ms/step - loss: 1.6347 - acc: 0.3838 - val_loss: 1.6512 - val_acc: 0.3718\n",
            "Epoch 70/250\n",
            "964/964 [==============================] - 2s 2ms/step - loss: 1.6255 - acc: 0.4129 - val_loss: 1.6709 - val_acc: 0.3697\n",
            "Epoch 71/250\n",
            "964/964 [==============================] - 2s 2ms/step - loss: 1.6187 - acc: 0.4149 - val_loss: 1.7225 - val_acc: 0.3151\n",
            "Epoch 72/250\n",
            "964/964 [==============================] - 2s 2ms/step - loss: 1.6297 - acc: 0.3942 - val_loss: 1.6890 - val_acc: 0.3508\n",
            "Epoch 73/250\n",
            "964/964 [==============================] - 2s 2ms/step - loss: 1.6174 - acc: 0.3911 - val_loss: 1.7135 - val_acc: 0.3172\n",
            "Epoch 74/250\n",
            "964/964 [==============================] - 2s 2ms/step - loss: 1.6073 - acc: 0.4015 - val_loss: 1.6633 - val_acc: 0.3761\n",
            "Epoch 75/250\n",
            "964/964 [==============================] - 2s 2ms/step - loss: 1.6151 - acc: 0.4077 - val_loss: 1.6274 - val_acc: 0.3887\n",
            "Epoch 76/250\n",
            "964/964 [==============================] - 2s 2ms/step - loss: 1.6041 - acc: 0.4046 - val_loss: 1.6801 - val_acc: 0.3613\n",
            "Epoch 77/250\n",
            "964/964 [==============================] - 2s 2ms/step - loss: 1.5925 - acc: 0.4357 - val_loss: 1.6419 - val_acc: 0.3845\n",
            "Epoch 78/250\n",
            "964/964 [==============================] - 2s 2ms/step - loss: 1.5930 - acc: 0.3942 - val_loss: 1.6745 - val_acc: 0.3782\n",
            "Epoch 79/250\n",
            "964/964 [==============================] - 2s 2ms/step - loss: 1.5978 - acc: 0.4222 - val_loss: 1.6804 - val_acc: 0.3529\n",
            "Epoch 80/250\n",
            "964/964 [==============================] - 2s 2ms/step - loss: 1.5959 - acc: 0.4108 - val_loss: 1.6458 - val_acc: 0.3676\n",
            "Epoch 81/250\n",
            "964/964 [==============================] - 2s 2ms/step - loss: 1.5796 - acc: 0.4160 - val_loss: 1.6434 - val_acc: 0.3655\n",
            "Epoch 82/250\n",
            "964/964 [==============================] - 2s 2ms/step - loss: 1.5833 - acc: 0.4129 - val_loss: 1.6213 - val_acc: 0.3971\n",
            "Epoch 83/250\n",
            "964/964 [==============================] - 2s 2ms/step - loss: 1.5800 - acc: 0.4077 - val_loss: 1.7184 - val_acc: 0.3235\n",
            "Epoch 84/250\n",
            "964/964 [==============================] - 2s 2ms/step - loss: 1.5806 - acc: 0.4004 - val_loss: 1.6362 - val_acc: 0.3866\n",
            "Epoch 85/250\n",
            "964/964 [==============================] - 2s 2ms/step - loss: 1.5717 - acc: 0.4274 - val_loss: 1.6333 - val_acc: 0.3739\n",
            "Epoch 86/250\n",
            "964/964 [==============================] - 2s 2ms/step - loss: 1.5616 - acc: 0.4440 - val_loss: 1.6006 - val_acc: 0.4097\n",
            "Epoch 87/250\n",
            "964/964 [==============================] - 2s 2ms/step - loss: 1.5627 - acc: 0.4108 - val_loss: 1.6282 - val_acc: 0.3382\n",
            "Epoch 88/250\n",
            "964/964 [==============================] - 2s 2ms/step - loss: 1.5748 - acc: 0.4160 - val_loss: 1.6204 - val_acc: 0.3950\n",
            "Epoch 89/250\n",
            "964/964 [==============================] - 2s 2ms/step - loss: 1.5492 - acc: 0.4429 - val_loss: 1.6154 - val_acc: 0.3887\n",
            "Epoch 90/250\n",
            "964/964 [==============================] - 2s 2ms/step - loss: 1.5576 - acc: 0.4336 - val_loss: 1.6150 - val_acc: 0.4055\n",
            "Epoch 91/250\n",
            "964/964 [==============================] - 2s 2ms/step - loss: 1.5608 - acc: 0.4129 - val_loss: 1.6195 - val_acc: 0.3971\n",
            "Epoch 92/250\n",
            "964/964 [==============================] - 2s 2ms/step - loss: 1.5447 - acc: 0.4346 - val_loss: 1.6109 - val_acc: 0.4076\n",
            "Epoch 93/250\n",
            "964/964 [==============================] - 2s 2ms/step - loss: 1.5373 - acc: 0.4357 - val_loss: 1.6396 - val_acc: 0.3487\n",
            "Epoch 94/250\n",
            "964/964 [==============================] - 2s 2ms/step - loss: 1.5515 - acc: 0.4305 - val_loss: 1.6114 - val_acc: 0.3782\n",
            "Epoch 95/250\n",
            "964/964 [==============================] - 2s 2ms/step - loss: 1.5371 - acc: 0.4346 - val_loss: 1.6046 - val_acc: 0.3592\n",
            "Epoch 96/250\n",
            "964/964 [==============================] - 2s 2ms/step - loss: 1.5229 - acc: 0.4492 - val_loss: 1.6226 - val_acc: 0.3866\n",
            "Epoch 97/250\n",
            "964/964 [==============================] - 2s 2ms/step - loss: 1.5230 - acc: 0.4388 - val_loss: 1.5826 - val_acc: 0.4034\n",
            "Epoch 98/250\n",
            "964/964 [==============================] - 2s 2ms/step - loss: 1.5239 - acc: 0.4523 - val_loss: 1.5858 - val_acc: 0.3971\n",
            "Epoch 99/250\n",
            "964/964 [==============================] - 2s 2ms/step - loss: 1.5234 - acc: 0.4357 - val_loss: 1.6057 - val_acc: 0.3634\n",
            "Epoch 100/250\n",
            "964/964 [==============================] - 2s 2ms/step - loss: 1.5217 - acc: 0.4315 - val_loss: 1.5849 - val_acc: 0.4055\n",
            "Epoch 101/250\n",
            "964/964 [==============================] - 2s 2ms/step - loss: 1.5179 - acc: 0.4367 - val_loss: 1.5817 - val_acc: 0.3803\n",
            "Epoch 102/250\n",
            "964/964 [==============================] - 2s 2ms/step - loss: 1.5115 - acc: 0.4481 - val_loss: 1.5853 - val_acc: 0.3929\n",
            "Epoch 103/250\n",
            "964/964 [==============================] - 2s 2ms/step - loss: 1.5076 - acc: 0.4409 - val_loss: 1.5919 - val_acc: 0.4055\n",
            "Epoch 104/250\n",
            "964/964 [==============================] - 2s 2ms/step - loss: 1.5030 - acc: 0.4585 - val_loss: 1.5620 - val_acc: 0.4349\n",
            "Epoch 105/250\n",
            "964/964 [==============================] - 2s 2ms/step - loss: 1.4980 - acc: 0.4554 - val_loss: 1.6060 - val_acc: 0.3739\n",
            "Epoch 106/250\n",
            "964/964 [==============================] - 2s 2ms/step - loss: 1.4956 - acc: 0.4637 - val_loss: 1.5762 - val_acc: 0.4013\n",
            "Epoch 107/250\n",
            "964/964 [==============================] - 2s 2ms/step - loss: 1.4996 - acc: 0.4502 - val_loss: 1.5657 - val_acc: 0.4055\n",
            "Epoch 108/250\n",
            "964/964 [==============================] - 2s 2ms/step - loss: 1.4918 - acc: 0.4429 - val_loss: 1.5706 - val_acc: 0.4076\n",
            "Epoch 109/250\n",
            "964/964 [==============================] - 2s 2ms/step - loss: 1.4798 - acc: 0.4813 - val_loss: 1.5449 - val_acc: 0.4496\n",
            "Epoch 110/250\n",
            "964/964 [==============================] - 2s 2ms/step - loss: 1.4836 - acc: 0.4481 - val_loss: 1.5703 - val_acc: 0.3950\n",
            "Epoch 111/250\n",
            "964/964 [==============================] - 2s 2ms/step - loss: 1.4813 - acc: 0.4720 - val_loss: 1.5881 - val_acc: 0.3655\n",
            "Epoch 112/250\n",
            "964/964 [==============================] - 2s 2ms/step - loss: 1.4739 - acc: 0.4710 - val_loss: 1.5667 - val_acc: 0.3950\n",
            "Epoch 113/250\n",
            "964/964 [==============================] - 2s 2ms/step - loss: 1.4733 - acc: 0.4658 - val_loss: 1.5488 - val_acc: 0.4139\n",
            "Epoch 114/250\n",
            "964/964 [==============================] - 2s 2ms/step - loss: 1.4715 - acc: 0.4730 - val_loss: 1.5572 - val_acc: 0.4013\n",
            "Epoch 115/250\n",
            "964/964 [==============================] - 2s 2ms/step - loss: 1.4580 - acc: 0.4585 - val_loss: 1.5435 - val_acc: 0.4328\n",
            "Epoch 116/250\n",
            "964/964 [==============================] - 2s 2ms/step - loss: 1.4649 - acc: 0.4647 - val_loss: 1.5906 - val_acc: 0.3592\n",
            "Epoch 117/250\n",
            "964/964 [==============================] - 2s 2ms/step - loss: 1.4581 - acc: 0.4616 - val_loss: 1.5562 - val_acc: 0.4097\n",
            "Epoch 118/250\n",
            "964/964 [==============================] - 2s 2ms/step - loss: 1.4489 - acc: 0.4896 - val_loss: 1.5368 - val_acc: 0.3971\n",
            "Epoch 119/250\n",
            "964/964 [==============================] - 2s 2ms/step - loss: 1.4577 - acc: 0.4772 - val_loss: 1.6010 - val_acc: 0.3803\n",
            "Epoch 120/250\n",
            "964/964 [==============================] - 2s 2ms/step - loss: 1.4560 - acc: 0.4720 - val_loss: 1.5456 - val_acc: 0.4202\n",
            "Epoch 121/250\n",
            "964/964 [==============================] - 2s 2ms/step - loss: 1.4568 - acc: 0.4730 - val_loss: 1.5486 - val_acc: 0.4013\n",
            "Epoch 122/250\n",
            "964/964 [==============================] - 2s 2ms/step - loss: 1.4421 - acc: 0.4855 - val_loss: 1.5552 - val_acc: 0.4055\n",
            "Epoch 123/250\n",
            "964/964 [==============================] - 2s 2ms/step - loss: 1.4453 - acc: 0.4689 - val_loss: 1.5202 - val_acc: 0.4433\n",
            "Epoch 124/250\n",
            "964/964 [==============================] - 2s 2ms/step - loss: 1.4457 - acc: 0.4876 - val_loss: 1.5479 - val_acc: 0.4307\n",
            "Epoch 125/250\n",
            "964/964 [==============================] - 2s 2ms/step - loss: 1.4449 - acc: 0.4710 - val_loss: 1.5718 - val_acc: 0.3845\n",
            "Epoch 126/250\n",
            "964/964 [==============================] - 2s 2ms/step - loss: 1.4459 - acc: 0.4803 - val_loss: 1.5501 - val_acc: 0.3950\n",
            "Epoch 127/250\n",
            "964/964 [==============================] - 2s 2ms/step - loss: 1.4224 - acc: 0.4927 - val_loss: 1.5646 - val_acc: 0.3971\n",
            "Epoch 128/250\n",
            "964/964 [==============================] - 2s 2ms/step - loss: 1.4165 - acc: 0.4761 - val_loss: 1.5387 - val_acc: 0.4076\n",
            "Epoch 129/250\n",
            "964/964 [==============================] - 2s 2ms/step - loss: 1.4204 - acc: 0.4896 - val_loss: 1.5094 - val_acc: 0.4559\n",
            "Epoch 130/250\n",
            "964/964 [==============================] - 2s 2ms/step - loss: 1.4272 - acc: 0.4876 - val_loss: 1.4972 - val_acc: 0.4412\n",
            "Epoch 131/250\n",
            "964/964 [==============================] - 2s 2ms/step - loss: 1.4041 - acc: 0.4979 - val_loss: 1.5269 - val_acc: 0.4181\n",
            "Epoch 132/250\n",
            "964/964 [==============================] - 2s 2ms/step - loss: 1.4069 - acc: 0.4969 - val_loss: 1.5197 - val_acc: 0.4223\n",
            "Epoch 133/250\n",
            "964/964 [==============================] - 2s 2ms/step - loss: 1.4128 - acc: 0.4855 - val_loss: 1.5447 - val_acc: 0.3950\n",
            "Epoch 134/250\n",
            "964/964 [==============================] - 2s 2ms/step - loss: 1.4198 - acc: 0.5031 - val_loss: 1.5571 - val_acc: 0.4097\n",
            "Epoch 135/250\n",
            "964/964 [==============================] - 2s 2ms/step - loss: 1.4117 - acc: 0.4938 - val_loss: 1.4957 - val_acc: 0.4559\n",
            "Epoch 136/250\n",
            "964/964 [==============================] - 2s 2ms/step - loss: 1.3932 - acc: 0.5093 - val_loss: 1.5224 - val_acc: 0.4412\n",
            "Epoch 137/250\n",
            "964/964 [==============================] - 2s 2ms/step - loss: 1.4004 - acc: 0.5041 - val_loss: 1.5115 - val_acc: 0.4454\n",
            "Epoch 138/250\n",
            "964/964 [==============================] - 2s 2ms/step - loss: 1.3975 - acc: 0.4948 - val_loss: 1.5023 - val_acc: 0.4349\n",
            "Epoch 139/250\n",
            "964/964 [==============================] - 2s 2ms/step - loss: 1.3865 - acc: 0.5083 - val_loss: 1.4965 - val_acc: 0.4433\n",
            "Epoch 140/250\n",
            "964/964 [==============================] - 2s 2ms/step - loss: 1.3782 - acc: 0.5176 - val_loss: 1.5007 - val_acc: 0.4433\n",
            "Epoch 141/250\n",
            "964/964 [==============================] - 2s 2ms/step - loss: 1.3935 - acc: 0.4990 - val_loss: 1.5069 - val_acc: 0.4244\n",
            "Epoch 142/250\n",
            "964/964 [==============================] - 2s 2ms/step - loss: 1.3806 - acc: 0.5041 - val_loss: 1.5017 - val_acc: 0.4328\n",
            "Epoch 143/250\n",
            "964/964 [==============================] - 2s 2ms/step - loss: 1.3827 - acc: 0.5156 - val_loss: 1.5174 - val_acc: 0.4055\n",
            "Epoch 144/250\n",
            "964/964 [==============================] - 2s 2ms/step - loss: 1.3770 - acc: 0.5021 - val_loss: 1.4966 - val_acc: 0.4538\n",
            "Epoch 145/250\n",
            "964/964 [==============================] - 2s 2ms/step - loss: 1.3763 - acc: 0.5083 - val_loss: 1.4832 - val_acc: 0.4643\n",
            "Epoch 146/250\n",
            "964/964 [==============================] - 2s 2ms/step - loss: 1.3674 - acc: 0.5114 - val_loss: 1.5025 - val_acc: 0.4517\n",
            "Epoch 147/250\n",
            "964/964 [==============================] - 2s 2ms/step - loss: 1.3731 - acc: 0.5187 - val_loss: 1.4844 - val_acc: 0.4370\n",
            "Epoch 148/250\n",
            "964/964 [==============================] - 2s 2ms/step - loss: 1.3822 - acc: 0.4938 - val_loss: 1.5063 - val_acc: 0.4454\n",
            "Epoch 149/250\n",
            "964/964 [==============================] - 2s 2ms/step - loss: 1.3599 - acc: 0.5311 - val_loss: 1.4885 - val_acc: 0.4496\n",
            "Epoch 150/250\n",
            "964/964 [==============================] - 2s 2ms/step - loss: 1.3654 - acc: 0.5187 - val_loss: 1.4897 - val_acc: 0.4244\n",
            "Epoch 151/250\n",
            "964/964 [==============================] - 2s 2ms/step - loss: 1.3571 - acc: 0.5187 - val_loss: 1.4996 - val_acc: 0.4349\n",
            "Epoch 152/250\n",
            "964/964 [==============================] - 2s 2ms/step - loss: 1.3524 - acc: 0.5031 - val_loss: 1.4785 - val_acc: 0.4433\n",
            "Epoch 153/250\n",
            "964/964 [==============================] - 2s 2ms/step - loss: 1.3510 - acc: 0.5207 - val_loss: 1.4902 - val_acc: 0.4559\n",
            "Epoch 154/250\n",
            "964/964 [==============================] - 2s 2ms/step - loss: 1.3442 - acc: 0.5280 - val_loss: 1.4693 - val_acc: 0.4580\n",
            "Epoch 155/250\n",
            "964/964 [==============================] - 2s 2ms/step - loss: 1.3468 - acc: 0.5259 - val_loss: 1.4867 - val_acc: 0.4517\n",
            "Epoch 156/250\n",
            "964/964 [==============================] - 2s 2ms/step - loss: 1.3429 - acc: 0.5290 - val_loss: 1.5066 - val_acc: 0.4139\n",
            "Epoch 157/250\n",
            "964/964 [==============================] - 2s 2ms/step - loss: 1.3495 - acc: 0.5425 - val_loss: 1.4767 - val_acc: 0.4538\n",
            "Epoch 158/250\n",
            "964/964 [==============================] - 2s 3ms/step - loss: 1.3353 - acc: 0.5135 - val_loss: 1.4991 - val_acc: 0.4097\n",
            "Epoch 159/250\n",
            "964/964 [==============================] - 2s 2ms/step - loss: 1.3327 - acc: 0.5384 - val_loss: 1.4543 - val_acc: 0.4811\n",
            "Epoch 160/250\n",
            "964/964 [==============================] - 2s 2ms/step - loss: 1.3334 - acc: 0.5322 - val_loss: 1.4925 - val_acc: 0.4307\n",
            "Epoch 161/250\n",
            "964/964 [==============================] - 2s 2ms/step - loss: 1.3332 - acc: 0.5176 - val_loss: 1.5299 - val_acc: 0.3929\n",
            "Epoch 162/250\n",
            "964/964 [==============================] - 2s 2ms/step - loss: 1.3258 - acc: 0.5114 - val_loss: 1.4750 - val_acc: 0.4538\n",
            "Epoch 163/250\n",
            "964/964 [==============================] - 2s 3ms/step - loss: 1.3254 - acc: 0.5436 - val_loss: 1.4939 - val_acc: 0.4349\n",
            "Epoch 164/250\n",
            "964/964 [==============================] - 2s 3ms/step - loss: 1.3220 - acc: 0.5342 - val_loss: 1.5004 - val_acc: 0.4433\n",
            "Epoch 165/250\n",
            "964/964 [==============================] - 3s 3ms/step - loss: 1.3237 - acc: 0.5176 - val_loss: 1.4694 - val_acc: 0.4433\n",
            "Epoch 166/250\n",
            "964/964 [==============================] - 3s 3ms/step - loss: 1.3012 - acc: 0.5363 - val_loss: 1.4685 - val_acc: 0.4391\n",
            "Epoch 167/250\n",
            "964/964 [==============================] - 2s 3ms/step - loss: 1.3038 - acc: 0.5405 - val_loss: 1.4547 - val_acc: 0.4622\n",
            "Epoch 168/250\n",
            "964/964 [==============================] - 2s 2ms/step - loss: 1.3098 - acc: 0.5425 - val_loss: 1.4679 - val_acc: 0.4517\n",
            "Epoch 169/250\n",
            "964/964 [==============================] - 2s 2ms/step - loss: 1.3175 - acc: 0.5259 - val_loss: 1.4676 - val_acc: 0.4286\n",
            "Epoch 170/250\n",
            "964/964 [==============================] - 3s 3ms/step - loss: 1.3037 - acc: 0.5405 - val_loss: 1.4597 - val_acc: 0.4454\n",
            "Epoch 171/250\n",
            "964/964 [==============================] - 3s 3ms/step - loss: 1.3025 - acc: 0.5270 - val_loss: 1.4755 - val_acc: 0.4433\n",
            "Epoch 172/250\n",
            "964/964 [==============================] - 2s 2ms/step - loss: 1.2957 - acc: 0.5415 - val_loss: 1.4899 - val_acc: 0.4013\n",
            "Epoch 173/250\n",
            "964/964 [==============================] - 2s 2ms/step - loss: 1.2943 - acc: 0.5571 - val_loss: 1.4436 - val_acc: 0.4748\n",
            "Epoch 174/250\n",
            "964/964 [==============================] - 2s 2ms/step - loss: 1.2922 - acc: 0.5425 - val_loss: 1.4438 - val_acc: 0.4685\n",
            "Epoch 175/250\n",
            "964/964 [==============================] - 2s 2ms/step - loss: 1.2913 - acc: 0.5353 - val_loss: 1.4526 - val_acc: 0.4685\n",
            "Epoch 176/250\n",
            "964/964 [==============================] - 2s 2ms/step - loss: 1.2898 - acc: 0.5280 - val_loss: 1.4911 - val_acc: 0.4286\n",
            "Epoch 177/250\n",
            "964/964 [==============================] - 2s 2ms/step - loss: 1.2941 - acc: 0.5539 - val_loss: 1.5513 - val_acc: 0.3992\n",
            "Epoch 178/250\n",
            "964/964 [==============================] - 2s 2ms/step - loss: 1.2941 - acc: 0.5425 - val_loss: 1.4749 - val_acc: 0.4433\n",
            "Epoch 179/250\n",
            "964/964 [==============================] - 2s 2ms/step - loss: 1.2860 - acc: 0.5405 - val_loss: 1.4329 - val_acc: 0.4643\n",
            "Epoch 180/250\n",
            "964/964 [==============================] - 2s 2ms/step - loss: 1.2762 - acc: 0.5633 - val_loss: 1.4331 - val_acc: 0.4685\n",
            "Epoch 181/250\n",
            "964/964 [==============================] - 2s 2ms/step - loss: 1.2809 - acc: 0.5508 - val_loss: 1.4635 - val_acc: 0.4286\n",
            "Epoch 182/250\n",
            "964/964 [==============================] - 2s 2ms/step - loss: 1.2906 - acc: 0.5405 - val_loss: 1.4584 - val_acc: 0.4748\n",
            "Epoch 183/250\n",
            "964/964 [==============================] - 2s 2ms/step - loss: 1.2770 - acc: 0.5508 - val_loss: 1.4460 - val_acc: 0.4601\n",
            "Epoch 184/250\n",
            "964/964 [==============================] - 2s 2ms/step - loss: 1.2608 - acc: 0.5622 - val_loss: 1.4199 - val_acc: 0.4895\n",
            "Epoch 185/250\n",
            "964/964 [==============================] - 2s 2ms/step - loss: 1.2837 - acc: 0.5695 - val_loss: 1.4524 - val_acc: 0.4496\n",
            "Epoch 186/250\n",
            "964/964 [==============================] - 2s 2ms/step - loss: 1.2582 - acc: 0.5622 - val_loss: 1.4682 - val_acc: 0.4496\n",
            "Epoch 187/250\n",
            "964/964 [==============================] - 2s 2ms/step - loss: 1.2654 - acc: 0.5477 - val_loss: 1.4294 - val_acc: 0.4895\n",
            "Epoch 188/250\n",
            "964/964 [==============================] - 2s 2ms/step - loss: 1.2540 - acc: 0.5560 - val_loss: 1.4017 - val_acc: 0.4874\n",
            "Epoch 189/250\n",
            "964/964 [==============================] - 2s 2ms/step - loss: 1.2608 - acc: 0.5571 - val_loss: 1.4647 - val_acc: 0.4412\n",
            "Epoch 190/250\n",
            "964/964 [==============================] - 2s 2ms/step - loss: 1.2645 - acc: 0.5633 - val_loss: 1.4184 - val_acc: 0.4790\n",
            "Epoch 191/250\n",
            "964/964 [==============================] - 2s 2ms/step - loss: 1.2553 - acc: 0.5571 - val_loss: 1.4603 - val_acc: 0.4328\n",
            "Epoch 192/250\n",
            "964/964 [==============================] - 2s 2ms/step - loss: 1.2558 - acc: 0.5529 - val_loss: 1.4278 - val_acc: 0.4748\n",
            "Epoch 193/250\n",
            "964/964 [==============================] - 2s 2ms/step - loss: 1.2519 - acc: 0.5705 - val_loss: 1.4465 - val_acc: 0.4706\n",
            "Epoch 194/250\n",
            "964/964 [==============================] - 2s 2ms/step - loss: 1.2356 - acc: 0.5840 - val_loss: 1.4576 - val_acc: 0.4286\n",
            "Epoch 195/250\n",
            "964/964 [==============================] - 2s 2ms/step - loss: 1.2397 - acc: 0.5560 - val_loss: 1.4178 - val_acc: 0.4685\n",
            "Epoch 196/250\n",
            "964/964 [==============================] - 2s 2ms/step - loss: 1.2487 - acc: 0.5664 - val_loss: 1.4632 - val_acc: 0.4244\n",
            "Epoch 197/250\n",
            "964/964 [==============================] - 2s 2ms/step - loss: 1.2357 - acc: 0.5788 - val_loss: 1.4267 - val_acc: 0.4727\n",
            "Epoch 198/250\n",
            "964/964 [==============================] - 2s 2ms/step - loss: 1.2414 - acc: 0.5539 - val_loss: 1.4331 - val_acc: 0.4664\n",
            "Epoch 199/250\n",
            "964/964 [==============================] - 2s 2ms/step - loss: 1.2346 - acc: 0.5519 - val_loss: 1.4033 - val_acc: 0.4895\n",
            "Epoch 200/250\n",
            "964/964 [==============================] - 2s 2ms/step - loss: 1.2338 - acc: 0.5768 - val_loss: 1.4140 - val_acc: 0.4664\n",
            "Epoch 201/250\n",
            "964/964 [==============================] - 2s 2ms/step - loss: 1.2249 - acc: 0.5820 - val_loss: 1.4417 - val_acc: 0.4496\n",
            "Epoch 202/250\n",
            "964/964 [==============================] - 2s 2ms/step - loss: 1.2284 - acc: 0.5602 - val_loss: 1.4252 - val_acc: 0.4622\n",
            "Epoch 203/250\n",
            "964/964 [==============================] - 2s 2ms/step - loss: 1.2249 - acc: 0.5643 - val_loss: 1.3931 - val_acc: 0.5105\n",
            "Epoch 204/250\n",
            "964/964 [==============================] - 2s 2ms/step - loss: 1.2250 - acc: 0.5747 - val_loss: 1.4167 - val_acc: 0.4811\n",
            "Epoch 205/250\n",
            "964/964 [==============================] - 2s 2ms/step - loss: 1.2206 - acc: 0.5695 - val_loss: 1.4405 - val_acc: 0.4622\n",
            "Epoch 206/250\n",
            "964/964 [==============================] - 2s 2ms/step - loss: 1.2287 - acc: 0.5612 - val_loss: 1.4230 - val_acc: 0.4601\n",
            "Epoch 207/250\n",
            "964/964 [==============================] - 2s 2ms/step - loss: 1.2151 - acc: 0.5820 - val_loss: 1.3963 - val_acc: 0.4937\n",
            "Epoch 208/250\n",
            "964/964 [==============================] - 2s 2ms/step - loss: 1.2180 - acc: 0.5830 - val_loss: 1.4082 - val_acc: 0.4790\n",
            "Epoch 209/250\n",
            "964/964 [==============================] - 2s 2ms/step - loss: 1.2148 - acc: 0.5757 - val_loss: 1.4003 - val_acc: 0.4874\n",
            "Epoch 210/250\n",
            "964/964 [==============================] - 2s 2ms/step - loss: 1.2035 - acc: 0.5778 - val_loss: 1.3998 - val_acc: 0.4685\n",
            "Epoch 211/250\n",
            "964/964 [==============================] - 2s 2ms/step - loss: 1.2072 - acc: 0.6048 - val_loss: 1.4229 - val_acc: 0.4895\n",
            "Epoch 212/250\n",
            "964/964 [==============================] - 2s 2ms/step - loss: 1.2044 - acc: 0.5726 - val_loss: 1.4528 - val_acc: 0.4559\n",
            "Epoch 213/250\n",
            "964/964 [==============================] - 2s 2ms/step - loss: 1.2154 - acc: 0.5809 - val_loss: 1.3950 - val_acc: 0.4643\n",
            "Epoch 214/250\n",
            "964/964 [==============================] - 2s 2ms/step - loss: 1.2110 - acc: 0.5705 - val_loss: 1.4273 - val_acc: 0.4601\n",
            "Epoch 215/250\n",
            "964/964 [==============================] - 2s 2ms/step - loss: 1.1929 - acc: 0.5830 - val_loss: 1.4372 - val_acc: 0.4643\n",
            "Epoch 216/250\n",
            "964/964 [==============================] - 2s 2ms/step - loss: 1.1972 - acc: 0.5757 - val_loss: 1.4410 - val_acc: 0.4790\n",
            "Epoch 217/250\n",
            "964/964 [==============================] - 2s 2ms/step - loss: 1.2015 - acc: 0.5923 - val_loss: 1.4745 - val_acc: 0.4307\n",
            "Epoch 218/250\n",
            "964/964 [==============================] - 2s 2ms/step - loss: 1.2111 - acc: 0.5726 - val_loss: 1.4017 - val_acc: 0.5000\n",
            "Epoch 219/250\n",
            "964/964 [==============================] - 2s 2ms/step - loss: 1.1890 - acc: 0.5975 - val_loss: 1.3849 - val_acc: 0.4811\n",
            "Epoch 220/250\n",
            "964/964 [==============================] - 2s 2ms/step - loss: 1.1903 - acc: 0.5923 - val_loss: 1.4335 - val_acc: 0.4643\n",
            "Epoch 221/250\n",
            "964/964 [==============================] - 2s 2ms/step - loss: 1.1815 - acc: 0.5996 - val_loss: 1.4265 - val_acc: 0.4664\n",
            "Epoch 222/250\n",
            "964/964 [==============================] - 2s 2ms/step - loss: 1.1774 - acc: 0.6048 - val_loss: 1.3839 - val_acc: 0.5021\n",
            "Epoch 223/250\n",
            "964/964 [==============================] - 2s 2ms/step - loss: 1.1801 - acc: 0.5851 - val_loss: 1.3803 - val_acc: 0.5168\n",
            "Epoch 224/250\n",
            "964/964 [==============================] - 2s 2ms/step - loss: 1.1909 - acc: 0.5695 - val_loss: 1.3883 - val_acc: 0.4832\n",
            "Epoch 225/250\n",
            "964/964 [==============================] - 2s 2ms/step - loss: 1.1862 - acc: 0.5809 - val_loss: 1.3772 - val_acc: 0.5084\n",
            "Epoch 226/250\n",
            "964/964 [==============================] - 2s 2ms/step - loss: 1.1812 - acc: 0.5902 - val_loss: 1.4125 - val_acc: 0.4643\n",
            "Epoch 227/250\n",
            "964/964 [==============================] - 2s 2ms/step - loss: 1.1737 - acc: 0.5861 - val_loss: 1.3924 - val_acc: 0.5000\n",
            "Epoch 228/250\n",
            "964/964 [==============================] - 2s 2ms/step - loss: 1.1728 - acc: 0.6048 - val_loss: 1.3736 - val_acc: 0.5063\n",
            "Epoch 229/250\n",
            "964/964 [==============================] - 2s 2ms/step - loss: 1.1735 - acc: 0.5840 - val_loss: 1.4101 - val_acc: 0.4706\n",
            "Epoch 230/250\n",
            "964/964 [==============================] - 2s 2ms/step - loss: 1.1637 - acc: 0.5996 - val_loss: 1.4163 - val_acc: 0.4664\n",
            "Epoch 231/250\n",
            "964/964 [==============================] - 2s 2ms/step - loss: 1.1563 - acc: 0.6079 - val_loss: 1.3942 - val_acc: 0.4685\n",
            "Epoch 232/250\n",
            "964/964 [==============================] - 2s 2ms/step - loss: 1.1620 - acc: 0.5934 - val_loss: 1.4067 - val_acc: 0.4769\n",
            "Epoch 233/250\n",
            "964/964 [==============================] - 2s 2ms/step - loss: 1.1595 - acc: 0.5902 - val_loss: 1.4282 - val_acc: 0.4559\n",
            "Epoch 234/250\n",
            "964/964 [==============================] - 2s 2ms/step - loss: 1.1571 - acc: 0.5965 - val_loss: 1.4054 - val_acc: 0.4412\n",
            "Epoch 235/250\n",
            "964/964 [==============================] - 2s 2ms/step - loss: 1.1609 - acc: 0.5975 - val_loss: 1.3986 - val_acc: 0.5000\n",
            "Epoch 236/250\n",
            "964/964 [==============================] - 2s 2ms/step - loss: 1.1436 - acc: 0.6048 - val_loss: 1.3879 - val_acc: 0.4496\n",
            "Epoch 237/250\n",
            "964/964 [==============================] - 2s 2ms/step - loss: 1.1488 - acc: 0.6017 - val_loss: 1.3682 - val_acc: 0.4832\n",
            "Epoch 238/250\n",
            "964/964 [==============================] - 2s 2ms/step - loss: 1.1402 - acc: 0.6245 - val_loss: 1.3880 - val_acc: 0.4895\n",
            "Epoch 239/250\n",
            "964/964 [==============================] - 2s 2ms/step - loss: 1.1467 - acc: 0.6131 - val_loss: 1.3527 - val_acc: 0.5084\n",
            "Epoch 240/250\n",
            "964/964 [==============================] - 2s 2ms/step - loss: 1.1403 - acc: 0.6058 - val_loss: 1.3843 - val_acc: 0.4685\n",
            "Epoch 241/250\n",
            "964/964 [==============================] - 2s 2ms/step - loss: 1.1347 - acc: 0.6131 - val_loss: 1.3654 - val_acc: 0.5168\n",
            "Epoch 242/250\n",
            "964/964 [==============================] - 2s 2ms/step - loss: 1.1516 - acc: 0.6027 - val_loss: 1.3838 - val_acc: 0.4622\n",
            "Epoch 243/250\n",
            "964/964 [==============================] - 2s 2ms/step - loss: 1.1387 - acc: 0.5985 - val_loss: 1.4279 - val_acc: 0.4538\n",
            "Epoch 244/250\n",
            "964/964 [==============================] - 2s 2ms/step - loss: 1.1381 - acc: 0.6058 - val_loss: 1.3740 - val_acc: 0.5105\n",
            "Epoch 245/250\n",
            "964/964 [==============================] - 2s 2ms/step - loss: 1.1279 - acc: 0.6214 - val_loss: 1.4674 - val_acc: 0.4223\n",
            "Epoch 246/250\n",
            "964/964 [==============================] - 2s 2ms/step - loss: 1.1346 - acc: 0.6048 - val_loss: 1.3823 - val_acc: 0.4706\n",
            "Epoch 247/250\n",
            "964/964 [==============================] - 2s 2ms/step - loss: 1.1387 - acc: 0.6172 - val_loss: 1.4255 - val_acc: 0.4496\n",
            "Epoch 248/250\n",
            "964/964 [==============================] - 2s 2ms/step - loss: 1.1287 - acc: 0.6193 - val_loss: 1.3492 - val_acc: 0.5168\n",
            "Epoch 249/250\n",
            "964/964 [==============================] - 2s 2ms/step - loss: 1.1291 - acc: 0.6224 - val_loss: 1.4000 - val_acc: 0.4769\n",
            "Epoch 250/250\n",
            "964/964 [==============================] - 2s 2ms/step - loss: 1.1352 - acc: 0.6151 - val_loss: 1.3755 - val_acc: 0.4853\n"
          ],
          "name": "stdout"
        }
      ]
    },
    {
      "metadata": {
        "id": "mFytY6LDzgJ0",
        "colab_type": "text"
      },
      "cell_type": "markdown",
      "source": [
        "Let's plot the loss:"
      ]
    },
    {
      "metadata": {
        "id": "TFz4ClZov9gZ",
        "colab_type": "code",
        "outputId": "eab255b8-e6b8-43df-e2b6-4213eec3b7ef",
        "colab": {
          "base_uri": "https://localhost:8080/",
          "height": 294
        }
      },
      "cell_type": "code",
      "source": [
        "plt.plot(cnnhistory.history['loss'])\n",
        "plt.plot(cnnhistory.history['val_loss'])\n",
        "plt.title('model loss')\n",
        "plt.ylabel('loss')\n",
        "plt.xlabel('epoch')\n",
        "plt.legend(['train', 'test'], loc='upper left')\n",
        "plt.show()"
      ],
      "execution_count": 0,
      "outputs": [
        {
          "output_type": "display_data",
          "data": {
            "image/png": "[encoded data removed]",
            "text/plain": [
              "<matplotlib.figure.Figure at 0x7f603e7e1f98>"
            ]
          },
          "metadata": {
            "tags": []
          }
        }
      ]
    },
    {
      "metadata": {
        "id": "x_ySPOyHxkZ3",
        "colab_type": "text"
      },
      "cell_type": "markdown",
      "source": [
        "# Observations\n",
        "\n",
        "As you can see from the graph above, after 150 epochs the model starts to overfit: the training set converges to the minimum more quickly that the test set.\n",
        "\n",
        "It seems also that the test set stops converging at more or less 200 epochs.\n",
        "\n",
        "If we add more epochs to the network, the result will be a great increment of the accuracy on the training set without a significant improvement on the test set.\n",
        "\n",
        "Overfitting means that the model tends to be accurate only with the data we are using for the training.\n",
        "\n",
        "Now we can save our model:"
      ]
    },
    {
      "metadata": {
        "id": "f5kRmoD-sdHj",
        "colab_type": "code",
        "outputId": "395fded8-58b2-411e-cf97-e5f5a54e4c42",
        "colab": {
          "base_uri": "https://localhost:8080/",
          "height": 34
        }
      },
      "cell_type": "code",
      "source": [
        "model_name = 'Emotion_Voice_Detection_Model.h5'\n",
        "save_dir = os.path.join(os.getcwd(), 'saved_models')\n",
        "# Save model and weights\n",
        "if not os.path.isdir(save_dir):\n",
        "    os.makedirs(save_dir)\n",
        "model_path = os.path.join(save_dir, model_name)\n",
        "model.save(model_path)\n",
        "print('Saved trained model at %s ' % model_path)"
      ],
      "execution_count": 0,
      "outputs": [
        {
          "output_type": "stream",
          "text": [
            "Saved trained model at /content/saved_models/Emotion_Voice_Detection_Model.h5 \n"
          ],
          "name": "stdout"
        }
      ]
    },
    {
      "metadata": {
        "id": "MNUiznKNwUtJ",
        "colab_type": "text"
      },
      "cell_type": "markdown",
      "source": [
        "# Thanks for reading: to be continued..."
      ]
    }
  ]
}